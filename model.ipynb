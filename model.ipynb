{
 "cells": [
  {
   "cell_type": "code",
   "execution_count": 1,
   "metadata": {},
   "outputs": [],
   "source": [
    "import pandas as pd\n",
    "import tensorflow as tf\n",
    "mydataset=pd.read_csv('project.csv')"
   ]
  },
  {
   "cell_type": "code",
   "execution_count": 2,
   "metadata": {},
   "outputs": [],
   "source": [
    "mydataset[\"RainToday\"]=pd.Categorical(mydataset[\"RainToday\"])\n",
    "mydataset[\"RainToday\"]=mydataset.RainToday.cat.codes\n",
    "mydataset[\"RainTomorrow\"]=pd.Categorical(mydataset[\"RainTomorrow\"])\n",
    "mydataset[\"RainTomorrow\"]=mydataset.RainTomorrow.cat.codes\n",
    "mydataset[\"WindGustSpeed\"]=pd.Categorical(mydataset[\"WindGustSpeed\"])\n",
    "mydataset[\"WindGustSpeed\"]=mydataset.WindGustSpeed.cat.codes\n",
    "mydataset[\"Rainfall\"]=pd.Categorical(mydataset[\"Rainfall\"])\n",
    "mydataset[\"Rainfall\"]=mydataset.Rainfall.cat.codes\n",
    "mydataset[\"WindGustDir\"]=pd.Categorical(mydataset[\"WindGustDir\"])\n",
    "mydataset[\"WindGustDir\"]=mydataset.WindGustDir.cat.codes\n",
    "mydataset[\"WindSpeed9am\"]=pd.Categorical(mydataset[\"WindSpeed9am\"])\n",
    "mydataset[\"WindSpeed9am\"]=mydataset.WindSpeed9am.cat.codes\n",
    "mydataset[\"WindSpeed3pm\"]=pd.Categorical(mydataset[\"WindSpeed3pm\"])\n",
    "mydataset[\"WindSpeed3pm\"]=mydataset.WindSpeed3pm.cat.codes\n",
    "mydataset[\"Humidity9am\"]=pd.Categorical(mydataset[\"Humidity9am\"])\n",
    "mydataset[\"Humidity9am\"]=mydataset.Humidity9am.cat.codes\n",
    "mydataset[\"Humidity3pm\"]=pd.Categorical(mydataset[\"Humidity3pm\"])\n",
    "mydataset[\"Humidity3pm\"]=mydataset.Humidity3pm.cat.codes\n",
    "mydataset[\"Pressure9am\"]=pd.Categorical(mydataset[\"Pressure9am\"])\n",
    "mydataset[\"Pressure9am\"]=mydataset.Pressure9am.cat.codes\n",
    "mydataset[\"Pressure3pm\"]=pd.Categorical(mydataset[\"Pressure3pm\"])\n",
    "mydataset[\"Pressure3pm\"]=mydataset.Pressure3pm.cat.codes\n",
    "mydataset[\"Cloud9am\"]=pd.Categorical(mydataset[\"Cloud9am\"])\n",
    "mydataset[\"Cloud9am\"]=mydataset.Cloud9am.cat.codes\n",
    "mydataset[\"Cloud3pm\"]=pd.Categorical(mydataset[\"Cloud3pm\"])\n",
    "mydataset[\"Cloud3pm\"]=mydataset.Cloud3pm.cat.codes\n",
    "mydataset[\"Temp9am\"]=pd.Categorical(mydataset[\"Temp9am\"])\n",
    "mydataset[\"Temp9am\"]=mydataset.Temp9am.cat.codes\n",
    "mydataset[\"Temp3pm\"]=pd.Categorical(mydataset[\"Temp3pm\"])\n",
    "mydataset[\"Temp3pm\"]=mydataset.Temp3pm.cat.codes\n",
    "mydataset=mydataset.fillna(method=\"ffill\")"
   ]
  },
  {
   "cell_type": "code",
   "execution_count": 14,
   "metadata": {},
   "outputs": [],
   "source": [
    "final=mydataset.drop([\"Date\",\"Location\",\"Evaporation\",\"Sunshine\",\"WindDir9am\",\"WindDir3pm\",\"RISK_MM\"],axis=\"columns\")\n",
    "final.dtypes\n",
    "final=final.fillna(method=\"ffill\")\n",
    "x=final[[\"WindGustSpeed\",\"RainToday\",\"Rainfall\",\"WindGustDir\",\"MinTemp\",\"MaxTemp\",\"WindSpeed9am\",\"WindSpeed9am\",\"WindSpeed3pm\",\"Humidity9am\",\"Humidity3pm\",\"Pressure9am\",\"Pressure3pm\",\"Cloud9am\",\"Cloud3pm\",\"Temp9am\",\"Temp3pm\"]]\n",
    "y=final[\"RainTomorrow\"]\n",
    "from sklearn.model_selection import train_test_split\n",
    "x_train,x_test,y_train,y_test=train_test_split(x,y,test_size=0.2)\n",
    "x_train=final[[\"WindGustSpeed\",\"RainToday\",\"Rainfall\",\"WindGustDir\",\"MinTemp\",\"MaxTemp\",\"WindSpeed9am\",\"WindSpeed9am\",\"WindSpeed3pm\",\"Humidity9am\",\"Humidity3pm\",\"Pressure9am\",\"Pressure3pm\",\"Cloud9am\",\"Cloud3pm\",\"Temp9am\",\"Temp3pm\"]].values\n",
    "y_train=final[\"RainTomorrow\"].values\n",
    "x_train=x_train.astype(\"float32\")\n",
    "y_train=y_train.astype(\"float32\")"
   ]
  },
  {
   "cell_type": "code",
   "execution_count": 19,
   "metadata": {},
   "outputs": [],
   "source": [
    "model=tf.keras.models.Sequential()\n",
    "model.add(tf.keras.layers.Flatten())\n",
    "model.add(tf.keras.layers.Dense(128, activation=tf.nn.relu,input_shape=x_train.shape[1:]))\n",
    "model.add(tf.keras.layers.Dense(128, activation=tf.nn.relu))\n",
    "model.add(tf.keras.layers.Dense(22, activation=tf.nn.softmax))\n",
    "model.compile(optimizer='adam',\n",
    "             loss='sparse_categorical_crossentropy',\n",
    "             metrics=['accuracy'])"
   ]
  },
  {
   "cell_type": "code",
   "execution_count": 21,
   "metadata": {},
   "outputs": [
    {
     "name": "stdout",
     "output_type": "stream",
     "text": [
      "Epoch 1/5\n",
      "142193/142193 [==============================] - 10s 67us/sample - loss: 0.3684 - acc: 0.8419\n",
      "Epoch 2/5\n",
      "142193/142193 [==============================] - 9s 66us/sample - loss: 0.3662 - acc: 0.8428\n",
      "Epoch 3/5\n",
      "142193/142193 [==============================] - 10s 67us/sample - loss: 0.3636 - acc: 0.8433\n",
      "Epoch 4/5\n",
      "142193/142193 [==============================] - 10s 69us/sample - loss: 0.3625 - acc: 0.8444\n",
      "Epoch 5/5\n",
      "142193/142193 [==============================] - 10s 68us/sample - loss: 0.3610 - acc: 0.8449\n"
     ]
    },
    {
     "data": {
      "text/plain": [
       "<tensorflow.python.keras.callbacks.History at 0x230af268198>"
      ]
     },
     "execution_count": 21,
     "metadata": {},
     "output_type": "execute_result"
    }
   ],
   "source": [
    "model.fit(x_train,y_train,epochs=5,batch_size=32)"
   ]
  },
  {
   "cell_type": "code",
   "execution_count": 22,
   "metadata": {},
   "outputs": [
    {
     "name": "stdout",
     "output_type": "stream",
     "text": [
      "28439/28439 [==============================] - 1s 41us/sample - loss: 0.3599 - acc: 0.8470\n",
      "0.35989439859475436 0.847041\n"
     ]
    }
   ],
   "source": [
    "val_loss,val_accu=model.evaluate(x_test,y_test)\n",
    "print(val_loss,val_accu)\n"
   ]
  },
  {
   "cell_type": "code",
   "execution_count": null,
   "metadata": {},
   "outputs": [],
   "source": []
  }
 ],
 "metadata": {
  "kernelspec": {
   "display_name": "Python 3",
   "language": "python",
   "name": "python3"
  },
  "language_info": {
   "codemirror_mode": {
    "name": "ipython",
    "version": 3
   },
   "file_extension": ".py",
   "mimetype": "text/x-python",
   "name": "python",
   "nbconvert_exporter": "python",
   "pygments_lexer": "ipython3",
   "version": "3.7.3"
  }
 },
 "nbformat": 4,
 "nbformat_minor": 2
}
